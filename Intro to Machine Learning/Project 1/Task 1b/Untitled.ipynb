{
 "cells": [
  {
   "cell_type": "code",
   "execution_count": 22,
   "id": "1d394b25",
   "metadata": {},
   "outputs": [],
   "source": [
    "import numpy as np\n",
    "import pandas as pd\n",
    "from sklearn.metrics import mean_squared_error\n",
    "from sklearn.linear_model import Ridge\n",
    "import sklearn.model_selection as ms\n",
    "\n",
    "df_train = pd.read_csv('C:/Users/Lenovo/Desktop/Task 1b/train.csv')\n",
    "x = df_train.iloc[:,2:]\n",
    "y = df_train.y\n",
    "\n",
    "x_train = np.array(x)\n",
    "y_train = np.array(y)\n",
    "x_train\n",
    "# clf = Ridge(alpha= 0.1)\n",
    "\n",
    "x_quadratic = np.power(x_train, 2)\n",
    "x_exponential = np.exp(x_train)\n",
    "x_cos = np.cos(x_train)\n",
    "const = np.ones(700).reshape((-1,1))\n",
    "x_all = np.concatenate((x_train, x_quadratic, x_exponential, x_cos, const), axis=1)\n",
    "\n",
    "# k fold cv\n",
    "lamda_set = np.array([0.1,10,20,30,100])\n",
    "RMSE = np.zeros(5)\n",
    "cv_ = ms.KFold(n_splits=10, shuffle=True, random_state=42)\n",
    "\n",
    "i = 0\n",
    "for lamda in lamda_set:\n",
    "    clf = Ridge(alpha= lamda, fit_intercept=False)\n",
    "    scores = ms.cross_val_score(clf, x_all, y_train, cv=cv_, scoring='neg_root_mean_squared_error')\n",
    "    RMSE[i] = -scores.mean()\n",
    "    i=i+1\n",
    "\n",
    "best_lamda_index = np.where(RMSE == np.min(RMSE))\n",
    "# print(lamda_set[best_lamda_index])\n",
    "\n",
    "clf_all = Ridge(alpha=lamda_set[best_lamda_index], fit_intercept=False)\n",
    "clf_all.fit(x_all, y_train)\n",
    "\n",
    "output = pd.DataFrame(data = clf_all.coef_)\n",
    "output.to_csv('C:/Users/Lenovo/Desktop/Task 1b/submit.csv', index = False, header = None)"
   ]
  },
  {
   "cell_type": "code",
   "execution_count": 23,
   "id": "1d9a8da6",
   "metadata": {},
   "outputs": [
    {
     "name": "stdout",
     "output_type": "stream",
     "text": [
      "1.9483585602658242\n"
     ]
    }
   ],
   "source": [
    "print(np.min(RMSE))"
   ]
  },
  {
   "cell_type": "code",
   "execution_count": null,
   "id": "af4ca960",
   "metadata": {},
   "outputs": [],
   "source": []
  }
 ],
 "metadata": {
  "kernelspec": {
   "display_name": "Python 3",
   "language": "python",
   "name": "python3"
  },
  "language_info": {
   "codemirror_mode": {
    "name": "ipython",
    "version": 3
   },
   "file_extension": ".py",
   "mimetype": "text/x-python",
   "name": "python",
   "nbconvert_exporter": "python",
   "pygments_lexer": "ipython3",
   "version": "3.8.8"
  }
 },
 "nbformat": 4,
 "nbformat_minor": 5
}
