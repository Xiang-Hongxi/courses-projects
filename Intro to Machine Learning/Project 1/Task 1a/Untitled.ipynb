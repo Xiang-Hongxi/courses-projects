{
 "cells": [
  {
   "cell_type": "code",
   "execution_count": 4,
   "id": "625a72b7",
   "metadata": {},
   "outputs": [],
   "source": [
    "import numpy as np\n",
    "import pandas as pd\n",
    "import sklearn.model_selection as ms\n",
    "import sklearn.linear_model as lm\n",
    "import sklearn.metrics as mt\n",
    "\n",
    "df_train = pd.read_csv(\"C:/Users/Lenovo/Desktop/Task 1a/train.csv\")\n",
    "X = df_train[[\"x1\",\"x2\",\"x3\",\"x4\",\"x5\",\"x6\",\"x7\",\"x8\",\"x9\",\"x10\",\"x11\",\"x12\",\"x13\"]]\n",
    "y = df_train[\"y\"]\n",
    "\n",
    "lamda_set = np.array([0.1,1,10,100,200])\n",
    "\n",
    "cv = ms.KFold(n_splits=10, shuffle=True,random_state=17)\n",
    "\n",
    "RMSE = np.zeros(5)\n",
    "\n",
    "i=0\n",
    "for lamda in lamda_set:\n",
    "    model = lm.Ridge(alpha=lamda, fit_intercept=False, copy_X=True)\n",
    "    scores = ms.cross_val_score(model, X, y, cv=cv, scoring='neg_root_mean_squared_error')\n",
    "    RMSE[i] = -scores.mean()\n",
    "    i=i+1\n",
    "\n",
    "output = pd.DataFrame(data = RMSE)\n",
    "output.to_csv(\"C:/Users/Lenovo/Desktop/Task 1a/submit.csv\",index = False, header = None)\n",
    "\n"
   ]
  },
  {
   "cell_type": "code",
   "execution_count": null,
   "id": "1f1f25ee",
   "metadata": {},
   "outputs": [],
   "source": []
  },
  {
   "cell_type": "code",
   "execution_count": null,
   "id": "34e0505f",
   "metadata": {},
   "outputs": [],
   "source": []
  }
 ],
 "metadata": {
  "kernelspec": {
   "display_name": "Python 3",
   "language": "python",
   "name": "python3"
  },
  "language_info": {
   "codemirror_mode": {
    "name": "ipython",
    "version": 3
   },
   "file_extension": ".py",
   "mimetype": "text/x-python",
   "name": "python",
   "nbconvert_exporter": "python",
   "pygments_lexer": "ipython3",
   "version": "3.8.8"
  }
 },
 "nbformat": 4,
 "nbformat_minor": 5
}
