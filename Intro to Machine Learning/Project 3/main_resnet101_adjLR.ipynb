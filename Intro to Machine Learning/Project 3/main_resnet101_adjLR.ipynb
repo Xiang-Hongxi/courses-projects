{
 "cells": [
  {
   "cell_type": "code",
   "execution_count": 17,
   "metadata": {},
   "outputs": [],
   "source": [
    "from tqdm import tqdm\n",
    "import numpy as np\n",
    "import pandas as pd\n",
    "from sklearn.model_selection import train_test_split\n",
    "\n",
    "from skimage.io import imread\n",
    "from sklearn.metrics import accuracy_score"
   ]
  },
  {
   "cell_type": "code",
   "execution_count": 18,
   "metadata": {},
   "outputs": [
    {
     "data": {
      "text/plain": [
       "'cuda'"
      ]
     },
     "execution_count": 18,
     "metadata": {},
     "output_type": "execute_result"
    }
   ],
   "source": [
    "import torch\n",
    "import torchvision\n",
    "import torchvision.transforms as transforms\n",
    "device = 'cuda' if torch.cuda.is_available() else 'cpu'\n",
    "device"
   ]
  },
  {
   "cell_type": "code",
   "execution_count": 19,
   "metadata": {},
   "outputs": [],
   "source": [
    "IMAGE_HEIGHT = 224\n",
    "IMAGE_WIDTH = 224\n",
    "BATCH_SIZE = 32\n",
    "\n",
    "RANDOM_SEED = 42\n",
    "EPOCHS = 10\n",
    "\n",
    "PATH = './resnet101_5.pth'\n",
    "SAVE_PATH ='./predictions_resnet101_5.txt'\n",
    "\n",
    "np.random.seed(RANDOM_SEED)\n",
    "torch.manual_seed(RANDOM_SEED)\n",
    "torch.backends.cudnn.deterministic = True\n",
    "torch.backends.cudnn.benchmark = False"
   ]
  },
  {
   "cell_type": "code",
   "execution_count": 20,
   "metadata": {},
   "outputs": [
    {
     "data": {
      "text/plain": [
       "59515"
      ]
     },
     "execution_count": 20,
     "metadata": {},
     "output_type": "execute_result"
    }
   ],
   "source": [
    "train_triplets = np.loadtxt('./train_triplets.txt', dtype='str')\n",
    "test_triplets = np.loadtxt('./test_triplets.txt', dtype='str')\n",
    "len(train_triplets)"
   ]
  },
  {
   "cell_type": "code",
   "execution_count": 21,
   "metadata": {},
   "outputs": [],
   "source": [
    "# train_set, valid_set = train_test_split(train_triplets, test_size=0.1, random_state=RANDOM_SEED)\n",
    "# len(train_set)"
   ]
  },
  {
   "cell_type": "code",
   "execution_count": 22,
   "metadata": {},
   "outputs": [
    {
     "data": {
      "text/html": [
       "<div>\n",
       "<style scoped>\n",
       "    .dataframe tbody tr th:only-of-type {\n",
       "        vertical-align: middle;\n",
       "    }\n",
       "\n",
       "    .dataframe tbody tr th {\n",
       "        vertical-align: top;\n",
       "    }\n",
       "\n",
       "    .dataframe thead th {\n",
       "        text-align: right;\n",
       "    }\n",
       "</style>\n",
       "<table border=\"1\" class=\"dataframe\">\n",
       "  <thead>\n",
       "    <tr style=\"text-align: right;\">\n",
       "      <th></th>\n",
       "      <th>0</th>\n",
       "      <th>1</th>\n",
       "      <th>2</th>\n",
       "    </tr>\n",
       "  </thead>\n",
       "  <tbody>\n",
       "    <tr>\n",
       "      <th>0</th>\n",
       "      <td>02461</td>\n",
       "      <td>03450</td>\n",
       "      <td>02678</td>\n",
       "    </tr>\n",
       "    <tr>\n",
       "      <th>1</th>\n",
       "      <td>02299</td>\n",
       "      <td>02499</td>\n",
       "      <td>04987</td>\n",
       "    </tr>\n",
       "    <tr>\n",
       "      <th>2</th>\n",
       "      <td>04663</td>\n",
       "      <td>01056</td>\n",
       "      <td>03029</td>\n",
       "    </tr>\n",
       "    <tr>\n",
       "      <th>3</th>\n",
       "      <td>04532</td>\n",
       "      <td>01186</td>\n",
       "      <td>01297</td>\n",
       "    </tr>\n",
       "    <tr>\n",
       "      <th>4</th>\n",
       "      <td>03454</td>\n",
       "      <td>03809</td>\n",
       "      <td>02204</td>\n",
       "    </tr>\n",
       "    <tr>\n",
       "      <th>...</th>\n",
       "      <td>...</td>\n",
       "      <td>...</td>\n",
       "      <td>...</td>\n",
       "    </tr>\n",
       "    <tr>\n",
       "      <th>59510</th>\n",
       "      <td>00466</td>\n",
       "      <td>02952</td>\n",
       "      <td>02530</td>\n",
       "    </tr>\n",
       "    <tr>\n",
       "      <th>59511</th>\n",
       "      <td>02646</td>\n",
       "      <td>03580</td>\n",
       "      <td>02359</td>\n",
       "    </tr>\n",
       "    <tr>\n",
       "      <th>59512</th>\n",
       "      <td>03255</td>\n",
       "      <td>04844</td>\n",
       "      <td>04334</td>\n",
       "    </tr>\n",
       "    <tr>\n",
       "      <th>59513</th>\n",
       "      <td>02136</td>\n",
       "      <td>04619</td>\n",
       "      <td>00161</td>\n",
       "    </tr>\n",
       "    <tr>\n",
       "      <th>59514</th>\n",
       "      <td>02509</td>\n",
       "      <td>02552</td>\n",
       "      <td>03406</td>\n",
       "    </tr>\n",
       "  </tbody>\n",
       "</table>\n",
       "<p>59515 rows × 3 columns</p>\n",
       "</div>"
      ],
      "text/plain": [
       "           0      1      2\n",
       "0      02461  03450  02678\n",
       "1      02299  02499  04987\n",
       "2      04663  01056  03029\n",
       "3      04532  01186  01297\n",
       "4      03454  03809  02204\n",
       "...      ...    ...    ...\n",
       "59510  00466  02952  02530\n",
       "59511  02646  03580  02359\n",
       "59512  03255  04844  04334\n",
       "59513  02136  04619  00161\n",
       "59514  02509  02552  03406\n",
       "\n",
       "[59515 rows x 3 columns]"
      ]
     },
     "execution_count": 22,
     "metadata": {},
     "output_type": "execute_result"
    }
   ],
   "source": [
    "df_train = pd.DataFrame(train_triplets)\n",
    "df_test = pd.DataFrame(test_triplets)\n",
    "\n",
    "df_train"
   ]
  },
  {
   "cell_type": "code",
   "execution_count": 23,
   "metadata": {},
   "outputs": [],
   "source": [
    "df_train.columns = ['A', 'B', 'C']\n",
    "df_train.insert(df_train.shape[1], 'y', 1)\n"
   ]
  },
  {
   "cell_type": "code",
   "execution_count": 24,
   "metadata": {},
   "outputs": [
    {
     "data": {
      "text/plain": [
       "array([['01623', '01263', '04221', 1],\n",
       "       ['02841', '04262', '03258', 1],\n",
       "       ['00002', '03453', '01963', 1],\n",
       "       ...,\n",
       "       ['03934', '02163', '02110', 1],\n",
       "       ['01042', '04892', '04466', 1],\n",
       "       ['02976', '02403', '04435', 1]], dtype=object)"
      ]
     },
     "execution_count": 24,
     "metadata": {},
     "output_type": "execute_result"
    }
   ],
   "source": [
    "train_set, valid_set = train_test_split(df_train.to_numpy(), test_size=0.1, random_state=RANDOM_SEED)\n",
    "valid_set"
   ]
  },
  {
   "cell_type": "code",
   "execution_count": 25,
   "metadata": {},
   "outputs": [],
   "source": [
    "transform_train = transforms.Compose([\n",
    "    transforms.ToTensor(),\n",
    "    transforms.Resize(size=(IMAGE_HEIGHT, IMAGE_WIDTH)),\n",
    "    transforms.RandomHorizontalFlip(), \n",
    "    transforms.Normalize([0.485, 0.456, 0.406], [0.229, 0.224, 0.225]), \n",
    "])\n",
    "\n",
    "transform_test = transforms.Compose([\n",
    "    transforms.ToTensor(),\n",
    "    transforms.Resize(size=(IMAGE_HEIGHT, IMAGE_WIDTH)),\n",
    "    transforms.Normalize([0.485, 0.456, 0.406], [0.229, 0.224, 0.225]),\n",
    "])"
   ]
  },
  {
   "cell_type": "code",
   "execution_count": 26,
   "metadata": {},
   "outputs": [],
   "source": [
    "class MyDataset(torch.utils.data.Dataset):\n",
    "    def __init__(self, data, transform=None, valid=False):\n",
    "\n",
    "        self.imgs = data\n",
    "\n",
    "        self.img_A = self.imgs[:, 0]\n",
    "        self.img_B = self.imgs[:, 1]\n",
    "        self.img_C = self.imgs[:, 2]\n",
    "        # self.label = data[:, 3]\n",
    "        self.transform = transform\n",
    "        self.valid = valid\n",
    "        \n",
    "        if self.valid:\n",
    "            self.label = self.imgs[:, 3]\n",
    "    \n",
    "    def __getitem__(self, index):\n",
    "        img_A = imread( './food/' + self.img_A[index] + '.jpg')\n",
    "        img_B = imread( './food/' + self.img_B[index] + '.jpg')\n",
    "        img_C = imread( './food/' + self.img_C[index] + '.jpg')\n",
    "\n",
    "        if self.transform is not None:\n",
    "            img_A = self.transform(img_A)\n",
    "            img_B = self.transform(img_B)\n",
    "            img_C = self.transform(img_C)\n",
    "\n",
    "        if self.valid:\n",
    "            label = self.label[index]\n",
    "            return img_A, img_B, img_C, label\n",
    "        else:\n",
    "            return img_A, img_B, img_C\n",
    "\n",
    "    def __len__(self):\n",
    "        return self.imgs.shape[0]\n",
    "\n",
    "\n",
    "train_data = MyDataset(data=train_set, transform=transform_train)\n",
    "valid_data = MyDataset(data=valid_set, transform=transform_test, valid=True)\n",
    "test_data = MyDataset(data=test_triplets, transform=transform_test)"
   ]
  },
  {
   "cell_type": "code",
   "execution_count": 27,
   "metadata": {},
   "outputs": [],
   "source": [
    "from torch.utils.data import DataLoader \n",
    "\n",
    "train_loader = DataLoader(dataset=train_data, batch_size=BATCH_SIZE, shuffle=True)\n",
    "valid_loader = DataLoader(dataset=valid_data, batch_size=BATCH_SIZE)\n",
    "test_loader = DataLoader(dataset=test_data,batch_size=BATCH_SIZE)"
   ]
  },
  {
   "cell_type": "code",
   "execution_count": 28,
   "metadata": {},
   "outputs": [],
   "source": [
    "import torch.nn as nn\n",
    "import torchvision.models as models\n",
    "\n",
    "class ConvNet(nn.Module):\n",
    "    \n",
    "    def __init__(self, net):\n",
    "        super(ConvNet, self).__init__()\n",
    "        self.net = net\n",
    "\n",
    "    def forward(self, img_A, img_B, img_C):\n",
    "        anchor = self.net(img_A)\n",
    "        postive = self.net(img_B)\n",
    "        negative = self.net(img_C)\n",
    "        return anchor, postive, negative\n",
    "\n",
    "class myLayer(nn.Module):\n",
    "    def __init__(self, input):\n",
    "        super(myLayer, self).__init__()\n",
    "        input_size = input.fc.in_features\n",
    "        self.fc1 = nn.Linear(input_size, 512)\n",
    "        self.fc2 = nn.Linear(512, 512)\n",
    "        self.fc3 = nn.Linear(512, 1024)\n",
    "        self.drop = nn.Dropout(p=0.5)\n",
    "        self.activation_fn = nn.Tanh()\n",
    "        \n",
    "    def forward(self, x):\n",
    "        x = self.fc1(x)\n",
    "        x = self.activation_fn(x)\n",
    "        x = self.drop(x)\n",
    "        x = self.fc2(x)\n",
    "        x = self.activation_fn(x)\n",
    "        x = self.drop(x)\n",
    "        x = self.fc3(x)\n",
    "        return x\n",
    "        \n",
    "model = models.resnet101(pretrained=True)\n",
    "# print(model)\n",
    "for param in model.parameters():\n",
    "    param.requires_grad = False\n",
    "\n",
    "model.fc = myLayer(model)\n",
    "# num_ftrs = model.fc.in_features\n",
    "# model.fc = nn.Linear(num_ftrs, 1000)\n",
    "\n",
    "net = ConvNet(model).to(device)"
   ]
  },
  {
   "cell_type": "code",
   "execution_count": 29,
   "metadata": {},
   "outputs": [],
   "source": [
    "import torch.optim as optim\n",
    "\n",
    "criterion = nn.TripletMarginLoss(margin=5, p=2)\n",
    "optimizer = optim.SGD(net.parameters(), lr=0.001, momentum=0.9, weight_decay=1e-5, nesterov=True)"
   ]
  },
  {
   "cell_type": "code",
   "execution_count": 30,
   "metadata": {},
   "outputs": [],
   "source": [
    "def adjust_lr(optimizer, epoch):\n",
    "    if (epoch+1)%3 == 0:\n",
    "        for param_group in optimizer.param_groups:\n",
    "            param_group['lr'] = param_group['lr'] * 0.5"
   ]
  },
  {
   "cell_type": "code",
   "execution_count": 31,
   "metadata": {},
   "outputs": [],
   "source": [
    "def valid(anchor, positive, negative, label):\n",
    "    dist_pos = torch.norm(anchor - positive, p=2, dim=1)\n",
    "    dist_neg = torch.norm(anchor - negative, p=2, dim=1)\n",
    "    diff = (dist_neg - dist_pos).detach().cpu().numpy()\n",
    "    predict = np.ceil(diff.clip(0,1))\n",
    "    \n",
    "    return accuracy_score(label, predict, normalize=False)"
   ]
  },
  {
   "cell_type": "code",
   "execution_count": 32,
   "metadata": {},
   "outputs": [],
   "source": [
    "def train(model):\n",
    "    valid_accuracy = 0.0\n",
    "    for epoch in range(EPOCHS):\n",
    "        running_loss = 0.0\n",
    "        valid_loss = 0.0\n",
    "        correct = 0\n",
    "        total = 0\n",
    "        accuracy = 0.0\n",
    "\n",
    "        print('Training')\n",
    "        # trainning\n",
    "        model.train()\n",
    "        \n",
    "        adjust_lr(optimizer, epoch)\n",
    "        print(f\"[{epoch + 1}] Learning rate this epoch: {optimizer.param_groups[0]['lr']:.6f}\")\n",
    "\n",
    "        for i, data in tqdm(enumerate(train_loader, 0)):\n",
    "            img_A = data[0].to(device)\n",
    "            img_B = data[1].to(device)\n",
    "            img_C = data[2].to(device)\n",
    "                        \n",
    "            optimizer.zero_grad()\n",
    "\n",
    "            anchor, positive, negetive = model(img_A, img_B, img_C)\n",
    "            loss = criterion(anchor, positive, negetive)\n",
    "            loss.backward()\n",
    "            optimizer.step()\n",
    "\n",
    "            running_loss += loss.item()\n",
    "        print(f'[{epoch + 1}] average loss per epoch: {running_loss / len(train_loader):.3f}')\n",
    "        \n",
    "\n",
    "        print('Validation')\n",
    "        # validation\n",
    "        model.eval()\n",
    "        with torch.no_grad():\n",
    "            for i, data in tqdm(enumerate(valid_loader, 0)):\n",
    "                img_A = data[0].to(device)\n",
    "                img_B = data[1].to(device)\n",
    "                img_C = data[2].to(device)\n",
    "                labels = data[3].reshape(-1, 1)\n",
    "\n",
    "                anchor, positive, negetive = model(img_A, img_B, img_C)\n",
    "                loss = criterion(anchor, positive, negetive)\n",
    "                valid_loss += loss\n",
    "                correct += valid(anchor, positive, negetive, labels)\n",
    "                total += labels.size(0)\n",
    "                accuracy = correct / total\n",
    "        print(f'Average Validation loss per epoch: {valid_loss / len(valid_loader):.3f}')\n",
    "        print(f'[{epoch + 1}] Accuracy of the network on the {total} valid images: {100 * accuracy} %')\n",
    "\n",
    "        torch.save(model.state_dict(), f'./resnet101_5_epoch{epoch+1}LR.pth')  \n",
    "\n",
    "        if accuracy >= valid_accuracy:\n",
    "            valid_accuracy = accuracy\n",
    "            torch.save(model.state_dict(), PATH)\n",
    "        \n",
    "\n",
    "    print('Finished Training')\n",
    "    "
   ]
  },
  {
   "cell_type": "code",
   "execution_count": 33,
   "metadata": {},
   "outputs": [
    {
     "name": "stdout",
     "output_type": "stream",
     "text": [
      "Training\n",
      "[1] Learning rate this epoch: 0.001000\n"
     ]
    },
    {
     "name": "stderr",
     "output_type": "stream",
     "text": [
      "308it [03:24,  1.50it/s]\n"
     ]
    },
    {
     "ename": "KeyboardInterrupt",
     "evalue": "",
     "output_type": "error",
     "traceback": [
      "\u001b[1;31m---------------------------------------------------------------------------\u001b[0m",
      "\u001b[1;31mKeyboardInterrupt\u001b[0m                         Traceback (most recent call last)",
      "\u001b[1;32m~\\AppData\\Local\\Temp/ipykernel_13124/819517366.py\u001b[0m in \u001b[0;36m<module>\u001b[1;34m\u001b[0m\n\u001b[1;32m----> 1\u001b[1;33m \u001b[0mtrain\u001b[0m\u001b[1;33m(\u001b[0m\u001b[0mnet\u001b[0m\u001b[1;33m)\u001b[0m\u001b[1;33m\u001b[0m\u001b[1;33m\u001b[0m\u001b[0m\n\u001b[0m",
      "\u001b[1;32m~\\AppData\\Local\\Temp/ipykernel_13124/3259901079.py\u001b[0m in \u001b[0;36mtrain\u001b[1;34m(model)\u001b[0m\n\u001b[0;32m     16\u001b[0m \u001b[1;33m\u001b[0m\u001b[0m\n\u001b[0;32m     17\u001b[0m         \u001b[1;32mfor\u001b[0m \u001b[0mi\u001b[0m\u001b[1;33m,\u001b[0m \u001b[0mdata\u001b[0m \u001b[1;32min\u001b[0m \u001b[0mtqdm\u001b[0m\u001b[1;33m(\u001b[0m\u001b[0menumerate\u001b[0m\u001b[1;33m(\u001b[0m\u001b[0mtrain_loader\u001b[0m\u001b[1;33m,\u001b[0m \u001b[1;36m0\u001b[0m\u001b[1;33m)\u001b[0m\u001b[1;33m)\u001b[0m\u001b[1;33m:\u001b[0m\u001b[1;33m\u001b[0m\u001b[1;33m\u001b[0m\u001b[0m\n\u001b[1;32m---> 18\u001b[1;33m             \u001b[0mimg_A\u001b[0m \u001b[1;33m=\u001b[0m \u001b[0mdata\u001b[0m\u001b[1;33m[\u001b[0m\u001b[1;36m0\u001b[0m\u001b[1;33m]\u001b[0m\u001b[1;33m.\u001b[0m\u001b[0mto\u001b[0m\u001b[1;33m(\u001b[0m\u001b[0mdevice\u001b[0m\u001b[1;33m)\u001b[0m\u001b[1;33m\u001b[0m\u001b[1;33m\u001b[0m\u001b[0m\n\u001b[0m\u001b[0;32m     19\u001b[0m             \u001b[0mimg_B\u001b[0m \u001b[1;33m=\u001b[0m \u001b[0mdata\u001b[0m\u001b[1;33m[\u001b[0m\u001b[1;36m1\u001b[0m\u001b[1;33m]\u001b[0m\u001b[1;33m.\u001b[0m\u001b[0mto\u001b[0m\u001b[1;33m(\u001b[0m\u001b[0mdevice\u001b[0m\u001b[1;33m)\u001b[0m\u001b[1;33m\u001b[0m\u001b[1;33m\u001b[0m\u001b[0m\n\u001b[0;32m     20\u001b[0m             \u001b[0mimg_C\u001b[0m \u001b[1;33m=\u001b[0m \u001b[0mdata\u001b[0m\u001b[1;33m[\u001b[0m\u001b[1;36m2\u001b[0m\u001b[1;33m]\u001b[0m\u001b[1;33m.\u001b[0m\u001b[0mto\u001b[0m\u001b[1;33m(\u001b[0m\u001b[0mdevice\u001b[0m\u001b[1;33m)\u001b[0m\u001b[1;33m\u001b[0m\u001b[1;33m\u001b[0m\u001b[0m\n",
      "\u001b[1;31mKeyboardInterrupt\u001b[0m: "
     ]
    }
   ],
   "source": [
    "train(net)"
   ]
  },
  {
   "cell_type": "code",
   "execution_count": null,
   "metadata": {},
   "outputs": [],
   "source": [
    "net.load_state_dict(torch.load(PATH))\n",
    "net.to(device)"
   ]
  },
  {
   "cell_type": "code",
   "execution_count": null,
   "metadata": {},
   "outputs": [],
   "source": [
    "def predict(anchor, positive, negative):\n",
    "    dist_pos = torch.norm(anchor - positive, p=2, dim=1)\n",
    "    dist_neg = torch.norm(anchor - negative, p=2, dim=1)\n",
    "    diff = (dist_neg - dist_pos).detach().to('cpu').numpy()\n",
    "    predict = np.ceil(diff.clip(0,1))\n",
    "\n",
    "    return(predict)"
   ]
  },
  {
   "cell_type": "code",
   "execution_count": null,
   "metadata": {},
   "outputs": [],
   "source": [
    "def test(model):\n",
    "    predictions = []\n",
    "    model.eval()\n",
    "    with torch.no_grad():\n",
    "        for i, data in tqdm(enumerate(test_loader, 0)):\n",
    "            img_A = data[0].to(device)\n",
    "            img_B = data[1].to(device)\n",
    "            img_C = data[2].to(device)\n",
    "\n",
    "            anchor, positive, negetive = model(img_A, img_B, img_C)\n",
    "\n",
    "            pred = predict(anchor, positive, negetive)\n",
    "            predictions.append(pred)\n",
    "    return predictions"
   ]
  },
  {
   "cell_type": "code",
   "execution_count": null,
   "metadata": {},
   "outputs": [],
   "source": [
    "output = test(net)\n",
    "predictions = []\n",
    "for i in range(len(output)):\n",
    "    output[i].astype(np.int8)\n",
    "    for j in range(len(output[i])):\n",
    "        predictions.append(output[i][j])\n",
    "np.savetxt(SAVE_PATH, predictions, fmt='%i')"
   ]
  },
  {
   "cell_type": "code",
   "execution_count": null,
   "metadata": {},
   "outputs": [],
   "source": [
    "# for epoch in range(EPOCHS):\n",
    "#         adjust_lr(optimizer, epoch)\n",
    "#         print(f\"[{epoch + 1}] Learning rate this epoch: {optimizer.param_groups[0]['lr']:.6f}\")"
   ]
  }
 ],
 "metadata": {
  "interpreter": {
   "hash": "39fe20f6b254be83e375cffed239463c7387532852df3462d9030ca054f6a86b"
  },
  "kernelspec": {
   "display_name": "Python 3 (ipykernel)",
   "language": "python",
   "name": "python3"
  },
  "language_info": {
   "codemirror_mode": {
    "name": "ipython",
    "version": 3
   },
   "file_extension": ".py",
   "mimetype": "text/x-python",
   "name": "python",
   "nbconvert_exporter": "python",
   "pygments_lexer": "ipython3",
   "version": "3.9.7"
  }
 },
 "nbformat": 4,
 "nbformat_minor": 2
}
