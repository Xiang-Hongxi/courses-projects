{
 "cells": [
  {
   "cell_type": "markdown",
   "metadata": {},
   "source": [
    "# Point Cloud Binary Classification with PyTorch"
   ]
  },
  {
   "cell_type": "markdown",
   "metadata": {},
   "source": [
    "Make sure you are using the `dl4cv` conda environment."
   ]
  },
  {
   "cell_type": "markdown",
   "metadata": {},
   "source": [
    "## Dataset loading and visualization"
   ]
  },
  {
   "cell_type": "markdown",
   "metadata": {},
   "source": [
    "The input X contain 100 2D points, and y are their corresponding labels (0 or 1). The goal is to train a model that can classify every point to its correct label.\n"
   ]
  },
  {
   "cell_type": "code",
   "execution_count": 1,
   "metadata": {},
   "outputs": [
    {
     "data": {
      "image/png": "[encoded data removed]",
      "text/plain": [
       "<Figure size 432x288 with 1 Axes>"
      ]
     },
     "metadata": {
      "needs_background": "light"
     },
     "output_type": "display_data"
    },
    {
     "data": {
      "text/plain": [
       "<Figure size 432x288 with 0 Axes>"
      ]
     },
     "metadata": {},
     "output_type": "display_data"
    }
   ],
   "source": [
    "%matplotlib inline\n",
    "import matplotlib.pyplot as plt\n",
    "import numpy as np\n",
    "import torch\n",
    "import torch.nn as nn\n",
    "import torch.nn.functional as F\n",
    "import torch.optim as optim\n",
    "from torch.utils.data import Dataset\n",
    "from torch.utils.data import DataLoader\n",
    "from torch.optim import Adam\n",
    "\n",
    "dataset = np.load('data/2d_pcl_dataset.npz')\n",
    "X, y = dataset['X'], dataset['y']\n",
    "\n",
    "X0 = X[y==0] # 50 2D points have label 0\n",
    "X1 = X[y==1] # 50 2D points have label 1\n",
    "\n",
    "def plot(X0, X1, fit_param=None):\n",
    "    plt.scatter(X0[:,0], X0[:,1], color='red', label=0)\n",
    "    plt.scatter(X1[:,0], X1[:,1], color='blue', label=1)\n",
    "    \n",
    "    plt.xlim([-0.55, 0.55])\n",
    "    plt.ylim([-0.35, 0.25])\n",
    "    plt.legend()\n",
    "    plt.show()\n",
    "    plt.clf()\n",
    "\n",
    "plot(X0, X1)"
   ]
  },
  {
   "cell_type": "markdown",
   "metadata": {},
   "source": [
    "## Logistic Regression for the point cloud classification task\n"
   ]
  },
  {
   "cell_type": "markdown",
   "metadata": {},
   "source": [
    "Starting by filling in the `Simple2DDataset` class below. First, in the class constructore `__init__`, you will need to read the right `2d_pcl_dataset.npz` from disk.\n",
    "\n",
    "Second, in the `__getitem__`, you will need to take a single data point and its label based on its index `idx`"
   ]
  },
  {
   "cell_type": "code",
   "execution_count": 2,
   "metadata": {},
   "outputs": [],
   "source": [
    "class Simple2DDataset(Dataset):\n",
    "    def __init__(self):\n",
    "        super().__init__()\n",
    "        #########################################################################\n",
    "        # TODO: read data from disk using np.load.\n",
    "        # Data is located in the folder \"data\".\n",
    "        # Save samples and labels to class members self.X and self.y respectively.\n",
    "        # samples should be an Nx2 numpy array. Labels should be Nx1.\n",
    "        #########################################################################\n",
    "        #self.X = 0\n",
    "        #self.y = 0\n",
    "        dataset = np.load('data/2d_pcl_dataset.npz')\n",
    "        self.X, self.y = dataset['X'], dataset['y']\n",
    "     \n",
    "    def __len__(self):\n",
    "        # Returns the number of samples in the dataset.\n",
    "        return self.X.shape[0]\n",
    "    \n",
    "    def __getitem__(self, idx):\n",
    "        #########################################################################\n",
    "        # TODO: return the sample and label with index idx\n",
    "        #########################################################################\n",
    "        #point = None\n",
    "        #label = None\n",
    "        point = self.X[idx]\n",
    "        label = self.y[idx]\n",
    "        \n",
    "        # Convert to tensor.\n",
    "        return torch.from_numpy(point).float(), \\\n",
    "               torch.from_numpy(label[np.newaxis]).float()\n"
   ]
  },
  {
   "cell_type": "markdown",
   "metadata": {},
   "source": [
    "With the complete `Simple2DDataset`, we can create a PyTorch dataloader\n",
    "\n",
    "**NOTE**: if you encounter some unexpected errors in data loading, try setting `NUM_WORKERS = 0`"
   ]
  },
  {
   "cell_type": "code",
   "execution_count": 3,
   "metadata": {},
   "outputs": [],
   "source": [
    "BATCH_SIZE = 8\n",
    "# NUM_WORKERS = 4\n",
    "NUM_WORKERS = 0\n",
    "\n",
    "# create the dataloader\n",
    "dataset = Simple2DDataset()\n",
    "train_dataloader = DataLoader(\n",
    "    dataset,\n",
    "    batch_size=BATCH_SIZE,\n",
    "    num_workers=NUM_WORKERS,\n",
    "    shuffle=True\n",
    ")"
   ]
  },
  {
   "cell_type": "markdown",
   "metadata": {},
   "source": [
    "Now, define your first network by filling in the `LinearClassifier` class below.\n",
    "\n",
    "Add a single linear layer `nn.Linear` inside the `nn.Sequential` call. The input is 2D, and the output should be a single value, corresponding to the probability of a given 2D point being part of cluster 0."
   ]
  },
  {
   "cell_type": "code",
   "execution_count": 4,
   "metadata": {},
   "outputs": [],
   "source": [
    "class LinearClassifier(nn.Module):\n",
    "    def __init__(self):\n",
    "        super().__init__()\n",
    "\n",
    "        self.codename = 'linear'\n",
    "\n",
    "        #########################################################################\n",
    "        # TODO: add a single linear layer with nn.Linear, inside the `nn.Sequential` call.\n",
    "        # Input is 2D.\n",
    "        # Output is a single value.\n",
    "        #########################################################################\n",
    "        # self.model = nn.Sequential()\n",
    "        self.model = nn.Sequential(nn.Linear(2,1))\n",
    "        \n",
    "    def forward(self, batch):\n",
    "        # Process batch using the defined model.\n",
    "        x = self.model(batch)\n",
    "        # Final sigmoid activation to obtain a probability between 0 and 1.\n",
    "        return torch.sigmoid(x)"
   ]
  },
  {
   "cell_type": "markdown",
   "metadata": {},
   "source": [
    "Now, you are asked to implement the training loop below"
   ]
  },
  {
   "cell_type": "code",
   "execution_count": 5,
   "metadata": {},
   "outputs": [],
   "source": [
    "def train(net, optimizer, dataloader, epoch):\n",
    "    net.train()\n",
    "    loss_sum = 0\n",
    "    for batch_idx, (point, label) in enumerate(dataloader):\n",
    "        # First we need to zero the gradient, otherwise PyTorch would accumulate them\n",
    "        optimizer.zero_grad()\n",
    "\n",
    "        #########################################################################\n",
    "        #TODO: \n",
    "        # 1. forward pass of the network to obtain the predictions given the batch\n",
    "        # 2. compute the loss using F.binary_cross_entropy\n",
    "        # 3. backward pass on the loss using loss.backward(), and one step \n",
    "        # of gradient descent (optimization) using optimizer.step()\n",
    "        #########################################################################\n",
    "        # loss = 0\n",
    "        output = net.forward(point)\n",
    "        loss = F.binary_cross_entropy(output, label)\n",
    "        loss.backward()\n",
    "        optimizer.step()\n",
    "        loss_sum += loss\n",
    "    return loss_sum\n",
    "        "
   ]
  },
  {
   "cell_type": "markdown",
   "metadata": {},
   "source": [
    "You can now run below to train the linear model."
   ]
  },
  {
   "cell_type": "code",
   "execution_count": 6,
   "metadata": {
    "scrolled": true,
    "tags": []
   },
   "outputs": [
    {
     "name": "stdout",
     "output_type": "stream",
     "text": [
      "[Epoch 01] Loss: 8.9513\n",
      "[Epoch 02] Loss: 7.2808\n",
      "[Epoch 03] Loss: 6.1910\n",
      "[Epoch 04] Loss: 5.4690\n",
      "[Epoch 05] Loss: 4.9461\n",
      "[Epoch 06] Loss: 5.0662\n",
      "[Epoch 07] Loss: 4.5198\n",
      "[Epoch 08] Loss: 4.5080\n",
      "[Epoch 09] Loss: 4.3467\n",
      "[Epoch 10] Loss: 4.1173\n",
      "[Epoch 11] Loss: 4.0200\n",
      "[Epoch 12] Loss: 3.9606\n",
      "[Epoch 13] Loss: 3.8630\n",
      "[Epoch 14] Loss: 3.8111\n",
      "[Epoch 15] Loss: 3.8664\n",
      "[Epoch 16] Loss: 4.2098\n",
      "[Epoch 17] Loss: 4.1588\n",
      "[Epoch 18] Loss: 3.7376\n",
      "[Epoch 19] Loss: 3.7400\n",
      "[Epoch 20] Loss: 3.6726\n",
      "[Epoch 21] Loss: 3.5736\n",
      "[Epoch 22] Loss: 3.7297\n",
      "[Epoch 23] Loss: 3.7093\n",
      "[Epoch 24] Loss: 3.5850\n",
      "[Epoch 25] Loss: 3.9469\n",
      "[Epoch 26] Loss: 3.6635\n",
      "[Epoch 27] Loss: 3.8642\n",
      "[Epoch 28] Loss: 3.5850\n",
      "[Epoch 29] Loss: 3.5615\n",
      "[Epoch 30] Loss: 3.4939\n",
      "[Epoch 31] Loss: 3.5652\n",
      "[Epoch 32] Loss: 3.5994\n",
      "[Epoch 33] Loss: 3.4758\n",
      "[Epoch 34] Loss: 3.4917\n",
      "[Epoch 35] Loss: 3.5629\n",
      "[Epoch 36] Loss: 3.9989\n",
      "[Epoch 37] Loss: 3.5316\n",
      "[Epoch 38] Loss: 3.7460\n",
      "[Epoch 39] Loss: 3.5184\n",
      "[Epoch 40] Loss: 3.5949\n",
      "[Epoch 41] Loss: 3.5518\n",
      "[Epoch 42] Loss: 3.4824\n",
      "[Epoch 43] Loss: 3.4950\n",
      "[Epoch 44] Loss: 3.5366\n",
      "[Epoch 45] Loss: 3.4800\n",
      "[Epoch 46] Loss: 3.4849\n",
      "[Epoch 47] Loss: 3.4838\n",
      "[Epoch 48] Loss: 3.5498\n",
      "[Epoch 49] Loss: 3.4712\n",
      "[Epoch 50] Loss: 3.4458\n",
      "[Epoch 51] Loss: 3.4652\n",
      "[Epoch 52] Loss: 3.4735\n",
      "[Epoch 53] Loss: 3.4869\n",
      "[Epoch 54] Loss: 3.7420\n",
      "[Epoch 55] Loss: 3.6625\n",
      "[Epoch 56] Loss: 3.5383\n",
      "[Epoch 57] Loss: 3.6722\n",
      "[Epoch 58] Loss: 3.4911\n",
      "[Epoch 59] Loss: 3.7565\n",
      "[Epoch 60] Loss: 3.5228\n",
      "[Epoch 61] Loss: 3.4810\n",
      "[Epoch 62] Loss: 3.6705\n",
      "[Epoch 63] Loss: 3.5973\n",
      "[Epoch 64] Loss: 3.5690\n",
      "[Epoch 65] Loss: 3.8051\n",
      "[Epoch 66] Loss: 3.4932\n",
      "[Epoch 67] Loss: 3.5133\n",
      "[Epoch 68] Loss: 3.6758\n",
      "[Epoch 69] Loss: 3.5451\n",
      "[Epoch 70] Loss: 3.4437\n",
      "[Epoch 71] Loss: 3.4380\n",
      "[Epoch 72] Loss: 3.4789\n",
      "[Epoch 73] Loss: 3.4344\n",
      "[Epoch 74] Loss: 3.6907\n",
      "[Epoch 75] Loss: 3.9027\n",
      "[Epoch 76] Loss: 3.6883\n",
      "[Epoch 77] Loss: 3.6118\n",
      "[Epoch 78] Loss: 3.4772\n",
      "[Epoch 79] Loss: 3.4841\n",
      "[Epoch 80] Loss: 3.6689\n",
      "[Epoch 81] Loss: 3.5285\n",
      "[Epoch 82] Loss: 3.4903\n",
      "[Epoch 83] Loss: 3.5920\n",
      "[Epoch 84] Loss: 3.4650\n",
      "[Epoch 85] Loss: 3.4759\n",
      "[Epoch 86] Loss: 3.6152\n",
      "[Epoch 87] Loss: 3.6857\n",
      "[Epoch 88] Loss: 3.5307\n",
      "[Epoch 89] Loss: 3.5512\n",
      "[Epoch 90] Loss: 3.5219\n",
      "[Epoch 91] Loss: 3.4500\n",
      "[Epoch 92] Loss: 3.5310\n",
      "[Epoch 93] Loss: 3.6934\n",
      "[Epoch 94] Loss: 3.4589\n",
      "[Epoch 95] Loss: 3.7773\n",
      "[Epoch 96] Loss: 3.5245\n",
      "[Epoch 97] Loss: 3.5695\n",
      "[Epoch 98] Loss: 3.8039\n",
      "[Epoch 99] Loss: 3.4681\n",
      "[Epoch 100] Loss: 3.5290\n"
     ]
    }
   ],
   "source": [
    "NUM_EPOCHS = 100\n",
    "# create the network.\n",
    "net = LinearClassifier()\n",
    "\n",
    "# create the optimizer.\n",
    "optimizer = Adam(net.parameters(), lr=0.1)\n",
    "\n",
    "best_accuracy = 0\n",
    "for epoch_idx in range(NUM_EPOCHS):\n",
    "    loss = train(net, optimizer, train_dataloader, epoch_idx)\n",
    "    print('[Epoch %02d] Loss: %.4f' % (epoch_idx + 1, loss))"
   ]
  },
  {
   "cell_type": "markdown",
   "metadata": {},
   "source": [
    "Now plot your result below.\n"
   ]
  },
  {
   "cell_type": "code",
   "execution_count": 7,
   "metadata": {},
   "outputs": [
    {
     "data": {
      "image/png": "[encoded data removed]",
      "text/plain": [
       "<Figure size 432x288 with 1 Axes>"
      ]
     },
     "metadata": {
      "needs_background": "light"
     },
     "output_type": "display_data"
    },
    {
     "data": {
      "text/plain": [
       "<Figure size 432x288 with 0 Axes>"
      ]
     },
     "metadata": {},
     "output_type": "display_data"
    }
   ],
   "source": [
    "p = np.linspace(-0.5, 0.5, 500)\n",
    "x_plot, y_plot = np.meshgrid(p, p)\n",
    "X_plot = np.stack((x_plot, y_plot), axis=2).reshape(-1, 2)\n",
    "X_plot = torch.from_numpy(X_plot).float()\n",
    "output = net(X_plot)\n",
    "output = output.detach().numpy()\n",
    "output = output.reshape(x_plot.shape[0], x_plot.shape[1])\n",
    "\n",
    "plt.contour(x_plot, y_plot, output, [0.5],\n",
    "                  colors=('k',),\n",
    "                  linewidths=(3,))\n",
    "plot(X0, X1)\n"
   ]
  },
  {
   "cell_type": "markdown",
   "metadata": {},
   "source": [
    "### Implement your first multi-layer perceptron (MLP) for point cloud classification\n",
    "Now you should notice that your logistic regression model cannot classify the point cloud correctly, and this is as expected :)  \n",
    "Therefore, we now ask you to implement an MLP for the same binary classification task."
   ]
  },
  {
   "cell_type": "code",
   "execution_count": 8,
   "metadata": {},
   "outputs": [],
   "source": [
    "# These are the parameters to be used\n",
    "nInput = 2\n",
    "nOutput = 1\n",
    "nHidden = 16\n",
    "act_fn = nn.ReLU()\n",
    "\n",
    "class MLP(nn.Module):\n",
    "    def __init__(self, nInput, nOutput, nHidden, act_fn):\n",
    "        super().__init__()\n",
    "\n",
    "        # Define the network layers in order.\n",
    "        # Input is 2D (nInput).\n",
    "        # Output is a single value (nOutput).\n",
    "        # Multiple linear layers each followed by a ReLU non-linearity (apart from the last).\n",
    "        #########################################################################\n",
    "        # TODO: add a two-layer MLP, inside the `nn.Sequential` call.\n",
    "        # Input is 2D.\n",
    "        # Output is a single value.\n",
    "\n",
    "        # Hint: unlike logistic regression where you need only one nn.Linear layer, \n",
    "        # here you will have two nn.Linear layers. After the first layer, we \n",
    "        # apply a ReLU activation function. The output is then passed to another \n",
    "        # linear layer. Note that you should use `nHidden` below as the hidden dimension \n",
    "        # of your linear layers.\n",
    "        #########################################################################\n",
    "        self.model = nn.Sequential(\n",
    "                        nn.Linear(nInput,nHidden),\n",
    "                        nn.ReLU(),\n",
    "                        nn.Linear(nHidden,nOutput))\n",
    "        \n",
    "    def forward(self, batch):\n",
    "        # Process batch using the defined model.\n",
    "        x = self.model(batch)\n",
    "        # Final sigmoid activation to obtain a probability.\n",
    "        return torch.sigmoid(x)\n"
   ]
  },
  {
   "cell_type": "markdown",
   "metadata": {},
   "source": [
    "Run below again!"
   ]
  },
  {
   "cell_type": "code",
   "execution_count": 9,
   "metadata": {},
   "outputs": [
    {
     "name": "stdout",
     "output_type": "stream",
     "text": [
      "[Epoch 01] Loss: 6.6248\n",
      "[Epoch 02] Loss: 3.9769\n",
      "[Epoch 03] Loss: 3.8240\n",
      "[Epoch 04] Loss: 3.6123\n",
      "[Epoch 05] Loss: 4.4957\n",
      "[Epoch 06] Loss: 3.5201\n",
      "[Epoch 07] Loss: 3.5788\n",
      "[Epoch 08] Loss: 3.4603\n",
      "[Epoch 09] Loss: 3.2544\n",
      "[Epoch 10] Loss: 3.4437\n",
      "[Epoch 11] Loss: 3.5636\n",
      "[Epoch 12] Loss: 2.2117\n",
      "[Epoch 13] Loss: 2.3355\n",
      "[Epoch 14] Loss: 2.1412\n",
      "[Epoch 15] Loss: 1.7769\n",
      "[Epoch 16] Loss: 2.2882\n",
      "[Epoch 17] Loss: 1.8770\n",
      "[Epoch 18] Loss: 1.4194\n",
      "[Epoch 19] Loss: 1.4078\n",
      "[Epoch 20] Loss: 1.0294\n",
      "[Epoch 21] Loss: 1.0292\n",
      "[Epoch 22] Loss: 1.2069\n",
      "[Epoch 23] Loss: 0.8223\n",
      "[Epoch 24] Loss: 0.9075\n",
      "[Epoch 25] Loss: 0.8609\n",
      "[Epoch 26] Loss: 0.6815\n",
      "[Epoch 27] Loss: 0.5670\n",
      "[Epoch 28] Loss: 0.4943\n",
      "[Epoch 29] Loss: 0.4391\n",
      "[Epoch 30] Loss: 0.4670\n",
      "[Epoch 31] Loss: 0.4661\n",
      "[Epoch 32] Loss: 0.4141\n",
      "[Epoch 33] Loss: 0.4195\n",
      "[Epoch 34] Loss: 0.5333\n",
      "[Epoch 35] Loss: 0.3236\n",
      "[Epoch 36] Loss: 0.2766\n",
      "[Epoch 37] Loss: 0.2997\n",
      "[Epoch 38] Loss: 0.3496\n",
      "[Epoch 39] Loss: 0.3154\n",
      "[Epoch 40] Loss: 0.2340\n",
      "[Epoch 41] Loss: 0.2294\n",
      "[Epoch 42] Loss: 0.2254\n",
      "[Epoch 43] Loss: 0.2199\n",
      "[Epoch 44] Loss: 0.3940\n",
      "[Epoch 45] Loss: 0.4182\n",
      "[Epoch 46] Loss: 0.3922\n",
      "[Epoch 47] Loss: 0.2664\n",
      "[Epoch 48] Loss: 0.1972\n",
      "[Epoch 49] Loss: 0.5472\n",
      "[Epoch 50] Loss: 0.5821\n",
      "[Epoch 51] Loss: 0.1942\n",
      "[Epoch 52] Loss: 0.2170\n",
      "[Epoch 53] Loss: 0.1253\n",
      "[Epoch 54] Loss: 0.1235\n",
      "[Epoch 55] Loss: 0.1469\n",
      "[Epoch 56] Loss: 0.1064\n",
      "[Epoch 57] Loss: 0.1248\n",
      "[Epoch 58] Loss: 0.0993\n",
      "[Epoch 59] Loss: 0.1032\n",
      "[Epoch 60] Loss: 0.0869\n",
      "[Epoch 61] Loss: 0.0858\n",
      "[Epoch 62] Loss: 0.0962\n",
      "[Epoch 63] Loss: 0.1024\n",
      "[Epoch 64] Loss: 0.0904\n",
      "[Epoch 65] Loss: 0.1454\n",
      "[Epoch 66] Loss: 0.1129\n",
      "[Epoch 67] Loss: 0.0852\n",
      "[Epoch 68] Loss: 0.1401\n",
      "[Epoch 69] Loss: 0.1464\n",
      "[Epoch 70] Loss: 0.0732\n",
      "[Epoch 71] Loss: 0.0905\n",
      "[Epoch 72] Loss: 0.1495\n",
      "[Epoch 73] Loss: 0.0751\n",
      "[Epoch 74] Loss: 0.0874\n",
      "[Epoch 75] Loss: 0.0701\n",
      "[Epoch 76] Loss: 0.0692\n",
      "[Epoch 77] Loss: 0.0608\n",
      "[Epoch 78] Loss: 0.0710\n",
      "[Epoch 79] Loss: 0.0715\n",
      "[Epoch 80] Loss: 0.0822\n",
      "[Epoch 81] Loss: 0.0556\n",
      "[Epoch 82] Loss: 0.0599\n",
      "[Epoch 83] Loss: 0.0528\n",
      "[Epoch 84] Loss: 0.0486\n",
      "[Epoch 85] Loss: 0.0522\n",
      "[Epoch 86] Loss: 0.0467\n",
      "[Epoch 87] Loss: 0.0650\n",
      "[Epoch 88] Loss: 0.0787\n",
      "[Epoch 89] Loss: 0.0886\n",
      "[Epoch 90] Loss: 0.0590\n",
      "[Epoch 91] Loss: 0.0667\n",
      "[Epoch 92] Loss: 0.1336\n",
      "[Epoch 93] Loss: 0.0699\n",
      "[Epoch 94] Loss: 0.1065\n",
      "[Epoch 95] Loss: 0.0578\n",
      "[Epoch 96] Loss: 0.0398\n",
      "[Epoch 97] Loss: 0.0472\n",
      "[Epoch 98] Loss: 0.0377\n",
      "[Epoch 99] Loss: 0.0457\n",
      "[Epoch 100] Loss: 0.0393\n",
      "[Epoch 101] Loss: 0.0371\n",
      "[Epoch 102] Loss: 0.0366\n",
      "[Epoch 103] Loss: 0.0597\n",
      "[Epoch 104] Loss: 0.0453\n",
      "[Epoch 105] Loss: 0.0374\n",
      "[Epoch 106] Loss: 0.0395\n",
      "[Epoch 107] Loss: 0.0331\n",
      "[Epoch 108] Loss: 0.0313\n",
      "[Epoch 109] Loss: 0.0449\n",
      "[Epoch 110] Loss: 0.0467\n",
      "[Epoch 111] Loss: 0.0493\n",
      "[Epoch 112] Loss: 0.0446\n",
      "[Epoch 113] Loss: 0.0769\n",
      "[Epoch 114] Loss: 1.7062\n",
      "[Epoch 115] Loss: 14.2801\n",
      "[Epoch 116] Loss: 6.1158\n",
      "[Epoch 117] Loss: 4.8259\n",
      "[Epoch 118] Loss: 1.4059\n",
      "[Epoch 119] Loss: 0.4275\n",
      "[Epoch 120] Loss: 0.3414\n",
      "[Epoch 121] Loss: 0.1366\n",
      "[Epoch 122] Loss: 0.1018\n",
      "[Epoch 123] Loss: 0.0828\n",
      "[Epoch 124] Loss: 0.0801\n",
      "[Epoch 125] Loss: 0.0668\n",
      "[Epoch 126] Loss: 0.0671\n",
      "[Epoch 127] Loss: 0.0635\n",
      "[Epoch 128] Loss: 0.0630\n",
      "[Epoch 129] Loss: 0.0612\n",
      "[Epoch 130] Loss: 0.0602\n",
      "[Epoch 131] Loss: 0.0556\n",
      "[Epoch 132] Loss: 0.0569\n",
      "[Epoch 133] Loss: 0.0524\n",
      "[Epoch 134] Loss: 0.0590\n",
      "[Epoch 135] Loss: 0.0482\n",
      "[Epoch 136] Loss: 0.0457\n",
      "[Epoch 137] Loss: 0.0471\n",
      "[Epoch 138] Loss: 0.0455\n",
      "[Epoch 139] Loss: 0.0425\n",
      "[Epoch 140] Loss: 0.0394\n",
      "[Epoch 141] Loss: 0.0388\n",
      "[Epoch 142] Loss: 0.0397\n",
      "[Epoch 143] Loss: 0.0372\n",
      "[Epoch 144] Loss: 0.0389\n",
      "[Epoch 145] Loss: 0.0497\n",
      "[Epoch 146] Loss: 0.0338\n",
      "[Epoch 147] Loss: 0.0408\n",
      "[Epoch 148] Loss: 0.0371\n",
      "[Epoch 149] Loss: 0.0457\n",
      "[Epoch 150] Loss: 0.0325\n",
      "[Epoch 151] Loss: 0.0348\n",
      "[Epoch 152] Loss: 0.0326\n",
      "[Epoch 153] Loss: 0.0311\n",
      "[Epoch 154] Loss: 0.0330\n",
      "[Epoch 155] Loss: 0.0316\n",
      "[Epoch 156] Loss: 0.0307\n",
      "[Epoch 157] Loss: 0.0300\n",
      "[Epoch 158] Loss: 0.0320\n",
      "[Epoch 159] Loss: 0.0291\n",
      "[Epoch 160] Loss: 0.0304\n",
      "[Epoch 161] Loss: 0.0286\n",
      "[Epoch 162] Loss: 0.0309\n",
      "[Epoch 163] Loss: 0.0296\n",
      "[Epoch 164] Loss: 0.0285\n",
      "[Epoch 165] Loss: 0.0284\n",
      "[Epoch 166] Loss: 0.0310\n",
      "[Epoch 167] Loss: 0.0291\n",
      "[Epoch 168] Loss: 0.0281\n",
      "[Epoch 169] Loss: 0.0287\n",
      "[Epoch 170] Loss: 0.0265\n",
      "[Epoch 171] Loss: 0.0249\n",
      "[Epoch 172] Loss: 0.0289\n",
      "[Epoch 173] Loss: 0.0285\n",
      "[Epoch 174] Loss: 0.0261\n",
      "[Epoch 175] Loss: 0.0264\n",
      "[Epoch 176] Loss: 0.0318\n",
      "[Epoch 177] Loss: 0.0326\n",
      "[Epoch 178] Loss: 0.0253\n",
      "[Epoch 179] Loss: 0.0226\n",
      "[Epoch 180] Loss: 0.0266\n",
      "[Epoch 181] Loss: 0.0225\n",
      "[Epoch 182] Loss: 0.0243\n",
      "[Epoch 183] Loss: 0.0237\n",
      "[Epoch 184] Loss: 0.0342\n",
      "[Epoch 185] Loss: 0.0236\n",
      "[Epoch 186] Loss: 0.0251\n",
      "[Epoch 187] Loss: 0.0300\n",
      "[Epoch 188] Loss: 0.0332\n",
      "[Epoch 189] Loss: 0.0222\n",
      "[Epoch 190] Loss: 0.0297\n",
      "[Epoch 191] Loss: 0.0197\n",
      "[Epoch 192] Loss: 0.0231\n",
      "[Epoch 193] Loss: 0.0339\n",
      "[Epoch 194] Loss: 0.0180\n",
      "[Epoch 195] Loss: 0.0252\n",
      "[Epoch 196] Loss: 0.0199\n",
      "[Epoch 197] Loss: 0.0203\n",
      "[Epoch 198] Loss: 0.0306\n",
      "[Epoch 199] Loss: 0.0168\n",
      "[Epoch 200] Loss: 0.0274\n"
     ]
    }
   ],
   "source": [
    "NUM_EPOCHS = 200\n",
    "\n",
    "# create the network.\n",
    "net = MLP(nInput, nOutput, nHidden, act_fn)\n",
    "\n",
    "# create the optimizer.\n",
    "optimizer = Adam(net.parameters(), lr=0.1)\n",
    "\n",
    "best_accuracy = 0\n",
    "for epoch_idx in range(NUM_EPOCHS):\n",
    "    loss = train(net, optimizer, train_dataloader, epoch_idx)\n",
    "    print('[Epoch %02d] Loss: %.4f' % (epoch_idx + 1, loss))"
   ]
  },
  {
   "cell_type": "markdown",
   "metadata": {},
   "source": [
    "Again plot your result. You should see that the decision boundary can clearly separate the point clouds.\n"
   ]
  },
  {
   "cell_type": "code",
   "execution_count": 10,
   "metadata": {},
   "outputs": [
    {
     "data": {
      "image/png": "[encoded data removed]",
      "text/plain": [
       "<Figure size 432x288 with 1 Axes>"
      ]
     },
     "metadata": {
      "needs_background": "light"
     },
     "output_type": "display_data"
    },
    {
     "data": {
      "text/plain": [
       "<Figure size 432x288 with 0 Axes>"
      ]
     },
     "metadata": {},
     "output_type": "display_data"
    }
   ],
   "source": [
    "p = np.linspace(-0.5, 0.5, 500)\n",
    "x_plot, y_plot = np.meshgrid(p, p)\n",
    "X_plot = np.stack((x_plot, y_plot), axis=2).reshape(-1, 2)\n",
    "X_plot = torch.from_numpy(X_plot).float()\n",
    "output = net(X_plot)\n",
    "output = output.detach().numpy()\n",
    "output = output.reshape(x_plot.shape[0], x_plot.shape[1])\n",
    "\n",
    "plt.contour(x_plot, y_plot, output, [0.5],\n",
    "                  colors=('k',),\n",
    "                  linewidths=(3,))\n",
    "plot(X0, X1)"
   ]
  },
  {
   "cell_type": "markdown",
   "metadata": {},
   "source": [
    "When you are done, move forward to `image_classification.ipynb`."
   ]
  },
  {
   "cell_type": "markdown",
   "metadata": {},
   "source": []
  }
 ],
 "metadata": {
  "kernelspec": {
   "display_name": "Python 3 (ipykernel)",
   "language": "python",
   "name": "python3"
  },
  "language_info": {
   "codemirror_mode": {
    "name": "ipython",
    "version": 3
   },
   "file_extension": ".py",
   "mimetype": "text/x-python",
   "name": "python",
   "nbconvert_exporter": "python",
   "pygments_lexer": "ipython3",
   "version": "3.9.7"
  },
  "vscode": {
   "interpreter": {
    "hash": "d268b61a0efacafa8645774cb6d0204c9f01d7563ef03f7672146d044e8f345c"
   }
  }
 },
 "nbformat": 4,
 "nbformat_minor": 4
}
